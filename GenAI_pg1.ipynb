{
 "cells": [
  {
   "cell_type": "code",
   "execution_count": 1,
   "id": "f0cb3776-42de-4ab1-a8ec-09f8ce30aa6c",
   "metadata": {},
   "outputs": [],
   "source": [
    "import nltk\n",
    "from nltk.corpus import stopwords\n",
    "from nltk.tokenize import word_tokenize\n",
    "from nltk import FreqDist\n"
   ]
  },
  {
   "cell_type": "code",
   "execution_count": 3,
   "id": "09f5508c-5277-4872-987f-d6986b8970b0",
   "metadata": {},
   "outputs": [
    {
     "name": "stderr",
     "output_type": "stream",
     "text": [
      "[nltk_data] Downloading package punkt to\n",
      "[nltk_data]     C:\\Users\\Admin\\AppData\\Roaming\\nltk_data...\n",
      "[nltk_data]   Package punkt is already up-to-date!\n",
      "[nltk_data] Downloading package stopwords to\n",
      "[nltk_data]     C:\\Users\\Admin\\AppData\\Roaming\\nltk_data...\n",
      "[nltk_data]   Package stopwords is already up-to-date!\n",
      "[nltk_data] Downloading package punkt_tab to\n",
      "[nltk_data]     C:\\Users\\Admin\\AppData\\Roaming\\nltk_data...\n",
      "[nltk_data]   Package punkt_tab is already up-to-date!\n"
     ]
    },
    {
     "data": {
      "text/plain": [
       "True"
      ]
     },
     "execution_count": 3,
     "metadata": {},
     "output_type": "execute_result"
    }
   ],
   "source": [
    "nltk.download('punkt')\n",
    "nltk.download('stopwords')\n",
    "nltk.download('punkt_tab')  # Add this line"
   ]
  },
  {
   "cell_type": "code",
   "execution_count": 5,
   "id": "9573234d-37ca-4e0b-8d3c-8d4ebc1469d5",
   "metadata": {},
   "outputs": [],
   "source": [
    "corpus = ['king is a strong man','queen is a wise woman','boy is a young man',\n",
    "          'girl is a young woman','prince is a young','prince will be strong',\n",
    "          'princess is young','man is strong','woman is pretty','prince is a boy',\n",
    "          'prince will be king','princess is a girl','princess will be queen']"
   ]
  },
  {
   "cell_type": "code",
   "execution_count": 7,
   "id": "c1ddb596-40eb-4a56-a134-de7c00657606",
   "metadata": {},
   "outputs": [
    {
     "name": "stdout",
     "output_type": "stream",
     "text": [
      "\n",
      "\n",
      "statements_list = [['king', 'is', 'a', 'strong', 'man'], ['queen', 'is', 'a', 'wise', 'woman'], ['boy', 'is', 'a', 'young', 'man'], ['girl', 'is', 'a', 'young', 'woman'], ['prince', 'is', 'a', 'young'], ['prince', 'will', 'be', 'strong'], ['princess', 'is', 'young'], ['man', 'is', 'strong'], ['woman', 'is', 'pretty'], ['prince', 'is', 'a', 'boy'], ['prince', 'will', 'be', 'king'], ['princess', 'is', 'a', 'girl'], ['princess', 'will', 'be', 'queen']]\n"
     ]
    }
   ],
   "source": [
    "statements_list = [word_tokenize(cor) for cor in corpus]\n",
    "print(f\"\\n\\nstatements_list = {statements_list}\")"
   ]
  },
  {
   "cell_type": "code",
   "execution_count": 9,
   "id": "82ad42b0-1359-4454-8719-eb4f9d9bfd46",
   "metadata": {},
   "outputs": [
    {
     "name": "stdout",
     "output_type": "stream",
     "text": [
      "\n",
      "\n",
      "documents = [['king', 'strong', 'man'], ['queen', 'wise', 'woman'], ['boy', 'young', 'man'], ['girl', 'young', 'woman'], ['prince', 'young'], ['prince', 'strong'], ['princess', 'young'], ['man', 'strong'], ['woman', 'pretty'], ['prince', 'boy'], ['prince', 'king'], ['princess', 'girl'], ['princess', 'queen']]\n"
     ]
    }
   ],
   "source": [
    "stop_words = set(stopwords.words('english'))\n",
    "documents = [[word for word in document if word.lower() not in stop_words] for document in statements_list]\n",
    "print(f'\\n\\ndocuments = {documents}')"
   ]
  },
  {
   "cell_type": "code",
   "execution_count": 43,
   "id": "e095331b-d2e5-4fe2-8939-e12aa25ddaf9",
   "metadata": {},
   "outputs": [
    {
     "name": "stdout",
     "output_type": "stream",
     "text": [
      "\n",
      "\n",
      "vocabulary = <FreqDist with 12 samples and 30 outcomes>\n"
     ]
    }
   ],
   "source": [
    "vocabulary = FreqDist([word for document in documents for word in document])\n",
    "print(f'\\n\\nvocabulary = {vocabulary}')"
   ]
  },
  {
   "cell_type": "code",
   "execution_count": 39,
   "id": "da774777-6e9f-4b6f-9521-48e38236e093",
   "metadata": {},
   "outputs": [
    {
     "data": {
      "text/plain": [
       "FreqDist({'the': 4, 'king': 2, 'queen': 2, 'rules': 1, 'leads': 1, 'and': 1, 'rule': 1, 'kingdom': 1})"
      ]
     },
     "execution_count": 39,
     "metadata": {},
     "output_type": "execute_result"
    }
   ],
   "source": [
    "FreqDist({'the': 4, 'king': 2, 'queen': 2, 'rules': 1, 'leads': 1, 'and': 1, 'rule': 1, 'kingdom': 1})\n"
   ]
  },
  {
   "cell_type": "code",
   "execution_count": 61,
   "id": "27502778-c55b-4493-874b-9c42e29ebc3f",
   "metadata": {},
   "outputs": [
    {
     "name": "stdout",
     "output_type": "stream",
     "text": [
      "2\n",
      "3\n",
      "\n",
      "sum vector = 5\n",
      "\n",
      "difference vector = -1\n"
     ]
    }
   ],
   "source": [
    "\n",
    "vector1 = vocabulary['king']\n",
    "print(vector1)\n",
    "vector2 = vocabulary['man']\n",
    "print(vector2)\n",
    "sum_vector = vector1 + vector2\n",
    "diff_vector = vector1 - vector2\n",
    "print(f\"\\nsum vector = {sum_vector}\")\n",
    "print(f\"\\ndifference vector = {diff_vector}\")"
   ]
  },
  {
   "cell_type": "code",
   "execution_count": 47,
   "id": "fceeb9bc-8763-42dd-a230-55c2a817d6d7",
   "metadata": {},
   "outputs": [
    {
     "name": "stdout",
     "output_type": "stream",
     "text": [
      "\n",
      "Cosine Similarity between 'king' and 'queen': 1.9999999999999996\n"
     ]
    }
   ],
   "source": [
    "from nltk import Text\n",
    "similarity = (vocabulary['king'] * vocabulary['queen']) / (vocabulary['king'] ** 0.5 * vocabulary['queen'] ** 0.5)\n",
    "print(f\"\\nCosine Similarity between 'king' and 'queen': {similarity}\")"
   ]
  },
  {
   "cell_type": "code",
   "execution_count": 69,
   "id": "10ae25a7-085e-4344-8d2a-670012b87da2",
   "metadata": {},
   "outputs": [
    {
     "name": "stdout",
     "output_type": "stream",
     "text": [
      "\n",
      "Most Similar words to 'king': [('young', 4), ('prince', 4), ('strong', 3), ('man', 3), ('woman', 3), ('princess', 3), ('king', 2), ('queen', 2), ('boy', 2), ('girl', 2), ('wise', 1), ('pretty', 1)]\n"
     ]
    }
   ],
   "source": [
    "most_similar = sorted(vocabulary.items(), key=lambda item: item[1], reverse=True)\n",
    "print(f\"\\nMost Similar words to 'king': {most_similar}\")"
   ]
  },
  {
   "cell_type": "code",
   "execution_count": 63,
   "id": "85f8f4ed-16bf-4473-9e60-ca3add75d2a7",
   "metadata": {},
   "outputs": [
    {
     "name": "stdout",
     "output_type": "stream",
     "text": [
      "\n",
      "Analogy Result (king - man + woman): ('queen', 2)\n"
     ]
    }
   ],
   "source": [
    "\n",
    "analogy_vector = vocabulary['king'] - vocabulary['man'] + vocabulary['woman']\n",
    "\n",
    "def distance(item):\n",
    "    return abs(item[1] - analogy_vector)\n",
    "\n",
    "most_similar_analogy = sorted(vocabulary.items(), key=distance)[1]\n",
    "\n",
    "print(f\"\\nAnalogy Result (king - man + woman): {most_similar_analogy}\")"
   ]
  },
  {
   "cell_type": "code",
   "execution_count": null,
   "id": "e61dd28d-6b17-4ea6-8d54-4764f858f5e6",
   "metadata": {},
   "outputs": [],
   "source": []
  }
 ],
 "metadata": {
  "kernelspec": {
   "display_name": "Python [conda env:base] *",
   "language": "python",
   "name": "conda-base-py"
  },
  "language_info": {
   "codemirror_mode": {
    "name": "ipython",
    "version": 3
   },
   "file_extension": ".py",
   "mimetype": "text/x-python",
   "name": "python",
   "nbconvert_exporter": "python",
   "pygments_lexer": "ipython3",
   "version": "3.11.7"
  }
 },
 "nbformat": 4,
 "nbformat_minor": 5
}
