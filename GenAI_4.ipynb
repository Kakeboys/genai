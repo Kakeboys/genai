{
 "cells": [
  {
   "cell_type": "code",
   "execution_count": 21,
   "id": "38e67350-7330-48e8-be95-cde942ca21ef",
   "metadata": {},
   "outputs": [
    {
     "name": "stdout",
     "output_type": "stream",
     "text": [
      "Most similar words to 'defendant': ['argued', 'verdict', 'suing', 'judge', 'case']\n",
      "\n",
      "Response for \u001b[1m Original Prompt:\u001b[0m\n",
      " AI response for prompt: 'Explain the role of a defendant in a court case.'\n",
      "\n",
      "Response for \u001b[1mEnriched Prompt:\u001b[0m\n",
      " AI response for prompt: 'Explain the role of a defendant in a court case. Include terms like argued, verdict, suing, judge, case to provide more detail.'\n"
     ]
    }
   ],
   "source": [
    "from gensim.models import Word2Vec\n",
    "import random\n",
    "\n",
    "# Simulate word embeddings using a predefined dictionary\n",
    "word_embeddings = {\n",
    "    'defendant': ['argued', 'verdict', 'suing', 'judge', 'case'],\n",
    "    'court': ['judge', 'lawyer', 'trial', 'evidence', 'jury'],\n",
    "    'justice': ['fairness', 'law', 'rights', 'punishment', 'order']\n",
    "}\n",
    "\n",
    "# Function to retrieve similar words\n",
    "def get_similar_words(word, topn=5):\n",
    "    return word_embeddings.get(word, [])[:topn]\n",
    "\n",
    "# Function to enrich the prompt\n",
    "def enrich_prompt(original_prompt, similar_words):\n",
    "    return f\"{original_prompt} Include terms like {', '.join(similar_words)} to provide more detail.\"\n",
    "\n",
    "# Simulate AI response generation\n",
    "def generate_response(prompt):\n",
    "    return f\"AI response for prompt: '{prompt}'\"\n",
    "\n",
    "# Define original prompt\n",
    "original_prompt = \"Explain the role of a defendant in a court case.\"\n",
    "\n",
    "# Retrieve similar words and enrich the prompt\n",
    "similar_words = get_similar_words('defendant')\n",
    "enriched_prompt = enrich_prompt(original_prompt, similar_words)\n",
    "\n",
    "# Generate responses\n",
    "original_response = generate_response(original_prompt)\n",
    "enriched_response = generate_response(enriched_prompt)\n",
    "\n",
    "# Compare responses\n",
    "print(\"Most similar words to 'defendant':\", similar_words)\n",
    "print(\"\\nResponse for \\033[1m Original Prompt:\\033[0m\\n\", original_response)\n",
    "print(\"\\nResponse for \\033[1mEnriched Prompt:\\033[0m\\n\", enriched_response)"
   ]
  },
  {
   "cell_type": "code",
   "execution_count": null,
   "id": "e9fc5ee2-29f3-4065-9f75-3461501de60c",
   "metadata": {},
   "outputs": [],
   "source": []
  }
 ],
 "metadata": {
  "kernelspec": {
   "display_name": "Python [conda env:base] *",
   "language": "python",
   "name": "conda-base-py"
  },
  "language_info": {
   "codemirror_mode": {
    "name": "ipython",
    "version": 3
   },
   "file_extension": ".py",
   "mimetype": "text/x-python",
   "name": "python",
   "nbconvert_exporter": "python",
   "pygments_lexer": "ipython3",
   "version": "3.11.7"
  }
 },
 "nbformat": 4,
 "nbformat_minor": 5
}
