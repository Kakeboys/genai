{
 "cells": [
  {
   "cell_type": "code",
   "execution_count": 31,
   "id": "0bbf104b-2693-4396-974e-d40cc0be920c",
   "metadata": {
    "scrolled": true
   },
   "outputs": [
    {
     "name": "stderr",
     "output_type": "stream",
     "text": [
      "[nltk_data] Downloading package punkt to\n",
      "[nltk_data]     C:\\Users\\Admin\\AppData\\Roaming\\nltk_data...\n",
      "[nltk_data]   Package punkt is already up-to-date!\n"
     ]
    },
    {
     "name": "stdout",
     "output_type": "stream",
     "text": [
      "Loading pre-trained word vectors...\n",
      "Word vectors loaded successfully!\n"
     ]
    },
    {
     "name": "stdin",
     "output_type": "stream",
     "text": [
      "Enter a seed word:  ocean\n"
     ]
    },
    {
     "name": "stdout",
     "output_type": "stream",
     "text": [
      "\n",
      "Generated Paragraph:\n",
      "\n",
      "A story about ocean would be incomplete without waters and coast. The ocean was surrounded by sea and waters. People often associate ocean with seas and coast. A story about ocean would be incomplete without waters and coast.\n"
     ]
    }
   ],
   "source": [
    "import gensim.downloader as api\n",
    "import random\n",
    "import nltk\n",
    "from nltk.tokenize import sent_tokenize\n",
    "# Ensure required resources are downloaded\n",
    "nltk.download('punkt')\n",
    "\n",
    "# Load pre-trained word vectors\n",
    "print(\"Loading pre-trained word vectors...\")\n",
    "word_vectors = api.load(\"glove-wiki-gigaword-100\") # 100D GloVe word embeddings\n",
    "print(\"Word vectors loaded successfully!\")\n",
    "def get_similar_words(seed_word, top_n=5):\n",
    "    \"\"\"Retrieve top-N similar words for a given seed word.\"\"\"\n",
    "    try:\n",
    "            similar_words = word_vectors.most_similar(seed_word, topn=top_n)\n",
    "            return [word[0] for word in similar_words]\n",
    "    except KeyError:\n",
    "            print(f\"'{seed_word}' not found in vocabulary. Try another word.\")\n",
    "            return []\n",
    "def generate_sentence(seed_word, similar_words):\n",
    "    \"\"\"Create a meaningful sentence using the seed word and its similar words.\"\"\"\n",
    "    sentence_templates = [\n",
    "        f\"The {seed_word} was surrounded by {similar_words[0]} and {similar_words[1]}.\",\n",
    "        f\"People often associate {seed_word} with {similar_words[2]} and {similar_words[3]}.\",\n",
    "        f\"In the land of {seed_word}, {similar_words[4]} was a common sight.\",\n",
    "        f\"A story about {seed_word} would be incomplete without {similar_words[1]} and {similar_words[3]}.\",\n",
    "        ]\n",
    "    return random.choice(sentence_templates)\n",
    "def generate_paragraph(seed_word):\n",
    "    \"\"\"Construct a creative paragraph using the seed word and similar words.\"\"\"\n",
    "    similar_words = get_similar_words(seed_word, top_n=5)\n",
    "    if not similar_words:\n",
    "        return \"Could not generate a paragraph. Try another seed word.\"\n",
    "    paragraph = [generate_sentence(seed_word, similar_words) for _ in range(4)]\n",
    "    return \" \".join(paragraph)\n",
    "\n",
    "# Example usage\n",
    "seed_word = input(\"Enter a seed word: \")\n",
    "model = api.load(\"glove-wiki-gigaword-100\")\n",
    "paragraph = generate_paragraph(seed_word)\n",
    "print(\"\\nGenerated Paragraph:\\n\")\n",
    "print(paragraph)"
   ]
  },
  {
   "cell_type": "code",
   "execution_count": 39,
   "id": "953992f2-6bbb-455f-a6ea-e20cd2b41d28",
   "metadata": {},
   "outputs": [
    {
     "name": "stderr",
     "output_type": "stream",
     "text": [
      "[nltk_data] Downloading package punkt to\n",
      "[nltk_data]     C:\\Users\\Admin\\AppData\\Roaming\\nltk_data...\n",
      "[nltk_data]   Package punkt is already up-to-date!\n"
     ]
    },
    {
     "name": "stdin",
     "output_type": "stream",
     "text": [
      "Enter a seed word:  wizard\n"
     ]
    },
    {
     "name": "stdout",
     "output_type": "stream",
     "text": [
      "\n",
      "Generated Story:\n",
      "Once upon a time, a wizard embarked on a journey. They encountered a ship, who spoke of an ancient prophecy. As they ventured deeper into the unknown, they discovered a rode hidden in the shadows. With courage, they faced the knight, unlocking secrets lost to time.\n"
     ]
    }
   ],
   "source": [
    "import gensim\n",
    "from gensim.models import Word2Vec\n",
    "import nltk\n",
    "from nltk.tokenize import word_tokenize\n",
    "import random\n",
    "nltk.download('punkt')\n",
    "\n",
    "# Example training corpus (general storytelling vocabulary)\n",
    "corpus = [\n",
    "    \"The wizard cast a powerful spell under the full moon.\",\n",
    "    \"A brave knight rode through the enchanted forest.\",\n",
    "    \"The dragon guarded its treasure deep inside the mountain.\",\n",
    "    \"A mysterious book contained secrets of the lost kingdom.\",\n",
    "    \"The princess discovered a hidden portal in the castle.\",\n",
    "    \"A wise old man told stories of ancient magic.\",\n",
    "    \"The storm raged as the ship sailed into the unknown.\"\n",
    "]\n",
    "\n",
    "# Tokenize and preprocess corpus\n",
    "sentences = [word_tokenize(sentence.lower()) for sentence in corpus]\n",
    "\n",
    "# Train Word2Vec model\n",
    "model = Word2Vec(sentences, vector_size=100, window=5, min_count=1, workers=4)\n",
    "\n",
    "def get_similar_words(seed_word, model, topn=5):\n",
    "    \"\"\"Retrieve similar words for a given seed word.\"\"\"\n",
    "    try:\n",
    "        similar_words = model.wv.most_similar(seed_word, topn=topn)\n",
    "        return [word for word, _ in similar_words]\n",
    "    except KeyError:\n",
    "        return [seed_word]  # Return the seed word if it's not in the vocabulary\n",
    "\n",
    "def create_story(seed_word, model):\n",
    "    \"\"\"Generate a short paragraph using similar words.\"\"\"\n",
    "    similar_words = get_similar_words(seed_word, model)\n",
    "    story_template = (\n",
    "        f\"Once upon a time, a {seed_word} embarked on a journey. \"\n",
    "        f\"They encountered a {random.choice(similar_words)}, who spoke of an ancient prophecy. \"\n",
    "        f\"As they ventured deeper into the unknown, they discovered a {random.choice(similar_words)} hidden in the shadows. \"\n",
    "        f\"With courage, they faced the {random.choice(similar_words)}, unlocking secrets lost to time.\"\n",
    "    )\n",
    "    return story_template\n",
    "\n",
    "# Get user input for the seed word\n",
    "seed_word = input(\"Enter a seed word: \").lower()\n",
    "\n",
    "# Generate and display the story\n",
    "story = create_story(seed_word, model)\n",
    "print(\"\\nGenerated Story:\")\n",
    "print(story)\n"
   ]
  },
  {
   "cell_type": "code",
   "execution_count": null,
   "id": "a57f3c66-13fa-4e47-b599-c81a25d8eba7",
   "metadata": {},
   "outputs": [],
   "source": []
  }
 ],
 "metadata": {
  "kernelspec": {
   "display_name": "Python [conda env:base] *",
   "language": "python",
   "name": "conda-base-py"
  },
  "language_info": {
   "codemirror_mode": {
    "name": "ipython",
    "version": 3
   },
   "file_extension": ".py",
   "mimetype": "text/x-python",
   "name": "python",
   "nbconvert_exporter": "python",
   "pygments_lexer": "ipython3",
   "version": "3.11.7"
  }
 },
 "nbformat": 4,
 "nbformat_minor": 5
}
